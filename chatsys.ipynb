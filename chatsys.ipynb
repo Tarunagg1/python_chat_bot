{
  "nbformat": 4,
  "nbformat_minor": 0,
  "metadata": {
    "colab": {
      "name": "chatsys.ipynb",
      "provenance": [],
      "collapsed_sections": [],
      "authorship_tag": "ABX9TyPdTSO55uL1guyRKrcvWuXP",
      "include_colab_link": true
    },
    "kernelspec": {
      "name": "python3",
      "display_name": "Python 3"
    }
  },
  "cells": [
    {
      "cell_type": "markdown",
      "metadata": {
        "id": "view-in-github",
        "colab_type": "text"
      },
      "source": [
        "<a href=\"https://colab.research.google.com/github/Tarunagg1/python_chat_bot/blob/main/chatsys.ipynb\" target=\"_parent\"><img src=\"https://colab.research.google.com/assets/colab-badge.svg\" alt=\"Open In Colab\"/></a>"
      ]
    },
    {
      "cell_type": "code",
      "metadata": {
        "id": "_4GfqM5dLw0k"
      },
      "source": [
        "import string\r\n",
        "import random\r\n",
        "import nltk\r\n",
        "import numpy as np\r\n",
        "from newspaper import Article\r\n",
        "from sklearn.feature_extraction.text import  CountVectorizer\r\n",
        "from sklearn.metrics.pairwise import  cosine_similarity\r\n",
        "import warnings\r\n",
        "warnings.filterwarnings('ignore')"
      ],
      "execution_count": 32,
      "outputs": []
    },
    {
      "cell_type": "code",
      "metadata": {
        "id": "ZFnR9w_DSgsF",
        "colab": {
          "base_uri": "https://localhost:8080/"
        },
        "outputId": "c4edc857-5a22-4389-9eda-273036b89c18"
      },
      "source": [
        "nltk.download('punkt',quiet=True)"
      ],
      "execution_count": 33,
      "outputs": [
        {
          "output_type": "execute_result",
          "data": {
            "text/plain": [
              "True"
            ]
          },
          "metadata": {
            "tags": []
          },
          "execution_count": 33
        }
      ]
    },
    {
      "cell_type": "code",
      "metadata": {
        "id": "Jiw4fc8mSgwG"
      },
      "source": [
        "## get articals\r\n",
        "#artical = Article('https://www.mayoclinic.org/diseases-conditions/chronic-kidney-disease/symptoms-causes/syc-20354521')\r\n",
        "artical = Article('https://www.futurelearn.com/info/courses/programming-101/0/steps/43783')\r\n",
        "artical.download()\r\n",
        "artical.parse()\r\n",
        "artical.nlp()\r\n",
        "corpus = artical.text"
      ],
      "execution_count": 34,
      "outputs": []
    },
    {
      "cell_type": "code",
      "metadata": {
        "id": "KsUQWEUuVdbK"
      },
      "source": [
        "text = corpus\r\n",
        "sentance_list = nltk.sent_tokenize(text)"
      ],
      "execution_count": 35,
      "outputs": []
    },
    {
      "cell_type": "code",
      "metadata": {
        "id": "czyFJy_JVdmp",
        "colab": {
          "base_uri": "https://localhost:8080/"
        },
        "outputId": "0d2d3404-2aa8-4c5f-f403-9937c8cb860d"
      },
      "source": [
        "print(sentance_list)"
      ],
      "execution_count": 36,
      "outputs": [
        {
          "output_type": "stream",
          "text": [
            "[\"There are many different definitions of computer programming, but Martin O'Hanlon's is simple.\", 'Watch his video to find out the three basic structures.', 'To get our computer to walk towards the cliff, we need to tell it to move its feet.', 'So let’s write, walk towards the cliff, left foot forward, right foot forward, left foot forward, right foot forward.', 'The computer will keep taking steps forward like this, looping our instructions until you tell it to stop.', 'You can summarise the logic of computer programming with these three concepts.', 'Sequence– running instructions in order.', 'Selection– making choices.', 'Repetition– doing the same thing more than once.', 'Add to these concepts the ability to deal with inputs and outputs, to store data, and then you have the tools to solve the majority of all computing programs.', 'Stop at the edge of the cliff.', 'Jump off the cliff.', 'And it will perform these instructions in order, one at the time, precisely as given.', 'It doesn’t question.', 'It doesn’t think.', 'It will do exactly what you tell it to do.', 'So if you told a computer to jump off a cliff, it would.', 'To stop computers constantly falling off cliffs, you can give it a choice and tell it what to do next.', 'So we’ll add in a line of code that says, if I won’t survive the fall, don’t jump off the cliff.', 'Computers also never get bored, and they’re great at doing the same thing over and over again.', 'There’s no right or wrong way to solve a problem, just like there’s no right or wrong way to paint a picture.', 'You have to make choices.', 'And while one may seem better than the other, neither is wrong.', 'With the right skills and experience, you can program software to solve an unlimited number of problems.', 'The only options are constrained by your imagination, and this is why I love programming.', 'When you create a program for a computer, you give it a set of instructions which it follows to the letter.', 'Let’s write some code for this computer.', 'Turn and face the cliff.', 'Walk towards the cliff.', 'There are lots of definitions of computer programming, but the one I use is programming is how you get computers to solve problems.', 'You are important.', 'Without you, the programmer, the computer is useless.', 'A computer will only do what you tell it to do.', 'Secondly, they solve problems.', 'Computers are tools.', 'They’re very complex tools, but they’re not mysterious or magical.', 'They exist to make tasks easy for you.', 'Computer programs, or software, are what make computers work.', 'Without software, modern computers are just complicated machines which turn electricity into heat.', 'It’s software on your computer that runs your internet browser, email, games, or just about everything.', 'And programming is a creative task.', 'you : without the programmer (you), the computer is useless.', 'It does what you tell it to do.', ': without the programmer (you), the computer is useless.', 'It does what tell it to do.', 'solve problems: computers are tools.', 'They are complex tools, admittedly, but they are not mysterious or magical: they exist to make tasks easier.', \"1. turn and face the cliff\\n\\n2. walk towards the cliff\\n\\n3. stop at the edge of the cliff\\n\\n4. jump off the cliff\\n\\n\\n\\nIf I wont survive the fall, don't jump off the cliff\\n\\n\\n\\n2a.\", 'left foot forward\\n\\n2b.', 'right foot forward\\n\\n2c.', 'go back to 2a\\n\\n\\n\\nSequence: running instructions in order Selection: making choices Repetition: doing the same thing more than once\\n\\nProgramming Languages\\n\\nprint ( \"Hello and welcome.\"', ')\\n\\nname = input ( \"Whats your name?\"', ')\\n\\nif name == \"Martin\" :\\n\\nprint ( \"Thats my name too!\"', ')\\n\\nprint ( \"Hi \" + name )\\n\\n\\n\\nThere are countless definitions of what computer programming is, but the one I use is:There are two key phrases here which are important:Computer programs (or software) are what make computers work.', 'Without software, modern computers are just complicated machines for turning electricity into heat.', 'It’s software on your computer that runs your operating system, browser, email, games, movie player – just about everything.Programming is a creative task: there is no right or wrong way to solve a problem, in the same way that there is no right or wrong way to paint a picture.', 'There are choices to be made, and one way may seem better than another, but that doesn’t mean the other is wrong!', 'With the right skills and experience, a programmer can craft software to solve an unlimited number of problems – from telling you when your next train will arrive to playing your favourite music.', 'The possibilities are constrained only by your imagination.', 'That’s why I love programming.When you create a program for a computer, you give it a set of instructions, which it will run one at a time in order, precisely as given.', 'If you told a computer to jump off a cliff, it would!To stop computers constantly falling off cliffs, they can also make choices about what to do next:Computers never get bored and are really good at doing the same thing over and over again.', 'Instruction 2 above might look in more detail like this:These three concepts are the basic logical structures in computer programming:Add to these concepts the ability to deal with inputs and outputs and to store data, and you have the tools to solve the majority of all computing problems.Unfortunately, computers don’t understand languages like English or Spanish, so we have to use athey understand to give them instructions.There are many different programming languages, all of which have their own merits, and certain languages are better suited to particular types of task, but there is no one language which is the ‘best’.In this course you will be programming using a language called Python.', 'Python is one of a group of languages called “general-purpose programming languages”, which can be used to solve a wide variety of problems.', 'Other popular languages in this category are C, Ruby, Java and BASIC.This is a small Python program which asks the user to enter their name and says “Hi” to them:You don’t need to be a computer programmer to be able read this code.', 'It contains English words and it is readable (if not perhaps understandable).', 'However, by the end of this course you will understand this code, what it does, and the concepts it uses.Programs are often referred to asand hence programming is also known as']\n"
          ],
          "name": "stdout"
        }
      ]
    },
    {
      "cell_type": "code",
      "metadata": {
        "id": "IWwAO0bVLycX"
      },
      "source": [
        "## bot greetings\r\n",
        "def greenting_response(text):\r\n",
        "  text = text.lower()\r\n",
        "  bot_greetings = ['hello','hii','hola!','hey','hi']\r\n",
        "  user_greetings = ['hey','hii','hello','holla']\r\n",
        "  for word in text.split():\r\n",
        "    if word in user_greetings:\r\n",
        "      return random.choice(bot_greetings)\r\n"
      ],
      "execution_count": 37,
      "outputs": []
    },
    {
      "cell_type": "code",
      "metadata": {
        "id": "dWXcCgmONqAW"
      },
      "source": [
        "def index_sort(list_var):\r\n",
        "  length = len(list_var)\r\n",
        "  list_index = list(range(0,length))\r\n",
        "\r\n",
        "  x = list_var\r\n",
        "  for i in range(length):\r\n",
        "    for j in range(length):\r\n",
        "      if x[list_index[i]] > x[list_index[j]]:\r\n",
        "        #swap\r\n",
        "        temp = list_index[i]\r\n",
        "        list_index[i] = list_index[j]\r\n",
        "        list_index[j] = temp\r\n",
        "  return list_index"
      ],
      "execution_count": 38,
      "outputs": []
    },
    {
      "cell_type": "code",
      "metadata": {
        "id": "JUTteEW9Mpgl"
      },
      "source": [
        "## create bot response\r\n",
        "def bot_response(user_input):\r\n",
        "  user_input = user_input.lower()\r\n",
        "  sentance_list.append(user_input)\r\n",
        "  bot_response = ''\r\n",
        "  cm = CountVectorizer().fit_transform(sentance_list)\r\n",
        "  similarity_score = cosine_similarity(cm[-1],cm)\r\n",
        "  similarity_scores_list = similarity_score.flatten()\r\n",
        "  index = index_sort(similarity_scores_list)\r\n",
        "  index = index[1:]\r\n",
        "  response_flag = 0\r\n",
        "  j=0\r\n",
        "  for i in range(len(index)):\r\n",
        "    if similarity_scores_list[index[i]] > 0.0:\r\n",
        "      bot_response = bot_response +' '+sentance_list[index[i]]\r\n",
        "      response_flag = 1\r\n",
        "      j = j+1   \r\n",
        "    if j>2:\r\n",
        "      break\r\n",
        "\r\n",
        "  if response_flag == 0:\r\n",
        "    bot_response = bot_response+' '+\"i apologize i'dont understand\"\r\n",
        "  sentance_list.remove(user_input)\r\n",
        "  return bot_response"
      ],
      "execution_count": 39,
      "outputs": []
    },
    {
      "cell_type": "code",
      "metadata": {
        "id": "7GzP26UpPB2Y",
        "colab": {
          "base_uri": "https://localhost:8080/"
        },
        "outputId": "6ac63dd7-784d-45de-d266-f52cabdef4a1"
      },
      "source": [
        "## start the chat\r\n",
        "print(\"bot: i'm ur bot i'll answer ur queries\")\r\n",
        "exit_list = ['exit','see you latter','quit','break','bye']\r\n",
        "while(True):\r\n",
        "  user_input = input()\r\n",
        "  if user_input.lower() in exit_list:\r\n",
        "    print(\"bot: Byy we'll Chat later !\")\r\n",
        "    break\r\n",
        "  else:\r\n",
        "    if greenting_response(user_input) != None:\r\n",
        "      print(\"Bot: \",greenting_response(user_input))\r\n",
        "    else:\r\n",
        "      print(\"Bot: \",bot_response(user_input))"
      ],
      "execution_count": 40,
      "outputs": [
        {
          "output_type": "stream",
          "text": [
            "bot: i'm ur bot i'll answer ur queries\n",
            "There are many different definitions of computer programming\n",
            "Bot Doc:   There are many different definitions of computer programming, but Martin O'Hanlon's is simple. There are lots of definitions of computer programming, but the one I use is programming is how you get computers to solve problems. )\n",
            "\n",
            "print ( \"Hi \" + name )\n",
            "\n",
            "\n",
            "\n",
            "There are countless definitions of what computer programming is, but the one I use is:There are two key phrases here which are important:Computer programs (or software) are what make computers work.\n",
            "what is programing\n",
            "Bot Doc:   )\n",
            "\n",
            "print ( \"Hi \" + name )\n",
            "\n",
            "\n",
            "\n",
            "There are countless definitions of what computer programming is, but the one I use is:There are two key phrases here which are important:Computer programs (or software) are what make computers work. And programming is a creative task. There are lots of definitions of computer programming, but the one I use is programming is how you get computers to solve problems.\n",
            "exit\n",
            "Doc bot: Byy we'll Chat later !\n"
          ],
          "name": "stdout"
        }
      ]
    },
    {
      "cell_type": "code",
      "metadata": {
        "id": "fFKcSx3Gwo1J"
      },
      "source": [
        ""
      ],
      "execution_count": 40,
      "outputs": []
    }
  ]
}